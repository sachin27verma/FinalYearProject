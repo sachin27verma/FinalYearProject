{
 "cells": [
  {
   "cell_type": "code",
   "execution_count": null,
   "metadata": {},
   "outputs": [],
   "source": [
    "%pip install torch numpy pandas sklearn\n"
   ]
  },
  {
   "cell_type": "code",
   "execution_count": null,
   "metadata": {},
   "outputs": [],
   "source": [
    "# install tqdm\n",
    "%pip install tqdm"
   ]
  },
  {
   "cell_type": "code",
   "execution_count": 7,
   "metadata": {},
   "outputs": [],
   "source": [
    "import torch\n",
    "import torch.nn as nn\n",
    "import torch.optim as optim\n",
    "import numpy as np\n",
    "import pandas as pd\n",
    "from sklearn.model_selection import train_test_split\n",
    "from sklearn.preprocessing import LabelEncoder\n",
    "from torch.utils.data import Dataset, DataLoader\n",
    "from tqdm import tqdm\n"
   ]
  },
  {
   "cell_type": "code",
   "execution_count": 8,
   "metadata": {},
   "outputs": [
    {
     "name": "stdout",
     "output_type": "stream",
     "text": [
      "  status                                               text\n",
      "0   REAL  Payal has accused filmmaker Anurag Kashyap of ...\n",
      "1   FAKE  A four-minute-long video of a woman criticisin...\n",
      "2   FAKE  Republic Poll, a fake Twitter account imitatin...\n",
      "3   REAL  Delhi teen finds place on UN green list, turns...\n",
      "4   REAL  Delhi: A high-level meeting underway at reside...\n"
     ]
    }
   ],
   "source": [
    "# Load dataset\n",
    "df = pd.read_csv('dataset.csv')\n",
    "\n",
    "# Show first few rows to check the dataset\n",
    "print(df.head())\n"
   ]
  },
  {
   "cell_type": "code",
   "execution_count": 9,
   "metadata": {},
   "outputs": [],
   "source": [
    "# Label encoding (Fake -> 0, Real -> 1)\n",
    "label_encoder = LabelEncoder()\n",
    "df['status'] = label_encoder.fit_transform(df['status'])\n",
    "\n",
    "# Split dataset into train and test\n",
    "train_texts, val_texts, train_labels, val_labels = train_test_split(df['text'], df['status'], test_size=0.2)\n",
    "\n",
    "# Tokenization and padding (for simplicity, we use a basic tokenizer)\n",
    "MAX_LENGTH = 512\n",
    "\n",
    "def basic_tokenizer(texts):\n",
    "    return [text.split() for text in texts]\n",
    "\n",
    "# Convert text into integer tokens (here we map words to indices)\n",
    "word2idx = {}\n",
    "for text in train_texts:\n",
    "    for word in text.split():\n",
    "        if word not in word2idx:\n",
    "            word2idx[word] = len(word2idx)\n",
    "\n",
    "def encode_texts(texts):\n",
    "    return [[word2idx[word] for word in text.split() if word in word2idx] for text in texts]\n",
    "\n",
    "train_encodings = encode_texts(train_texts)\n",
    "val_encodings = encode_texts(val_texts)\n"
   ]
  },
  {
   "cell_type": "code",
   "execution_count": 16,
   "metadata": {},
   "outputs": [],
   "source": [
    "from torch.nn.utils.rnn import pad_sequence\n",
    "\n",
    "def pad_sequences(sequences, max_length=MAX_LENGTH):\n",
    "    padded = []\n",
    "    for seq in sequences:\n",
    "        if len(seq) < max_length:\n",
    "            # Pad with 0\n",
    "            padded.append(seq + [0] * (max_length - len(seq)))\n",
    "        else:\n",
    "            # Truncate if longer than max_length\n",
    "            padded.append(seq[:max_length])\n",
    "    return padded\n"
   ]
  },
  {
   "cell_type": "code",
   "execution_count": 17,
   "metadata": {},
   "outputs": [],
   "source": [
    "train_encodings = pad_sequences(train_encodings, max_length=MAX_LENGTH)\n",
    "val_encodings = pad_sequences(val_encodings, max_length=MAX_LENGTH)\n"
   ]
  },
  {
   "cell_type": "code",
   "execution_count": null,
   "metadata": {},
   "outputs": [],
   "source": []
  },
  {
   "cell_type": "code",
   "execution_count": 18,
   "metadata": {},
   "outputs": [],
   "source": [
    "class FakeNewsDataset(Dataset):\n",
    "    def __init__(self, encodings, labels):\n",
    "        self.encodings = encodings\n",
    "        self.labels = labels\n",
    "\n",
    "    def __getitem__(self, idx):\n",
    "        return {\n",
    "            'input_ids': torch.tensor(self.encodings[idx], dtype=torch.long),\n",
    "            'labels': torch.tensor(self.labels.iloc[idx], dtype=torch.long)\n",
    "        }\n",
    "\n",
    "    def __len__(self):\n",
    "        return len(self.labels)\n"
   ]
  },
  {
   "cell_type": "code",
   "execution_count": 19,
   "metadata": {},
   "outputs": [],
   "source": [
    "class MultiHeadAttention(nn.Module):\n",
    "    def __init__(self, embed_size, num_heads):\n",
    "        super(MultiHeadAttention, self).__init__()\n",
    "        self.num_heads = num_heads\n",
    "        self.embed_size = embed_size\n",
    "        self.head_dim = embed_size // num_heads\n",
    "        \n",
    "        assert self.head_dim * num_heads == embed_size, \"Embedding size must be divisible by number of heads\"\n",
    "        \n",
    "        self.query = nn.Linear(embed_size, embed_size)\n",
    "        self.key = nn.Linear(embed_size, embed_size)\n",
    "        self.value = nn.Linear(embed_size, embed_size)\n",
    "        self.fc_out = nn.Linear(embed_size, embed_size)\n",
    "    \n",
    "    def forward(self, values, keys, query, mask):\n",
    "        N = query.shape[0]\n",
    "        \n",
    "        # Split the embedding into self.num_heads different pieces\n",
    "        Q = self.query(query).view(N, -1, self.num_heads, self.head_dim).transpose(1, 2)\n",
    "        K = self.key(keys).view(N, -1, self.num_heads, self.head_dim).transpose(1, 2)\n",
    "        V = self.value(values).view(N, -1, self.num_heads, self.head_dim).transpose(1, 2)\n",
    "        \n",
    "        # Calculate attention scores\n",
    "        energy = torch.einsum(\"nqhd,nkhd->nhqk\", [Q, K])  # [N, heads, query_len, key_len]\n",
    "        \n",
    "        if mask is not None:\n",
    "            energy = energy.masked_fill(mask == 0, float(\"-1e20\"))\n",
    "        \n",
    "        attention = torch.softmax(energy / (self.embed_size ** (1 / 2)), dim=-1)\n",
    "        \n",
    "        out = torch.einsum(\"nhql,nlhd->nqhd\", [attention, V]).reshape(N, -1, self.num_heads * self.head_dim)\n",
    "        \n",
    "        out = self.fc_out(out)\n",
    "        return out\n"
   ]
  },
  {
   "cell_type": "code",
   "execution_count": 20,
   "metadata": {},
   "outputs": [],
   "source": [
    "class PositionalEncoding(nn.Module):\n",
    "    def __init__(self, embed_size, max_len=512):\n",
    "        super(PositionalEncoding, self).__init__()\n",
    "        pe = torch.zeros(max_len, embed_size)\n",
    "        position = torch.arange(0, max_len).float().unsqueeze(1)\n",
    "        div_term = torch.exp(torch.arange(0, embed_size, 2).float() * -(np.log(10000.0) / embed_size))\n",
    "        pe[:, 0::2] = torch.sin(position * div_term)\n",
    "        pe[:, 1::2] = torch.cos(position * div_term)\n",
    "        pe = pe.unsqueeze(0)\n",
    "        self.register_buffer('pe', pe)\n",
    "    \n",
    "    def forward(self, x):\n",
    "        return x + self.pe[:, :x.size(1)]\n"
   ]
  },
  {
   "cell_type": "code",
   "execution_count": 21,
   "metadata": {},
   "outputs": [],
   "source": [
    "class TransformerBlock(nn.Module):\n",
    "    def __init__(self, embed_size, num_heads, feed_forward_size, dropout):\n",
    "        super(TransformerBlock, self).__init__()\n",
    "        self.attention = MultiHeadAttention(embed_size, num_heads)\n",
    "        self.norm1 = nn.LayerNorm(embed_size)\n",
    "        self.norm2 = nn.LayerNorm(embed_size)\n",
    "        self.feed_forward = nn.Sequential(\n",
    "            nn.Linear(embed_size, feed_forward_size),\n",
    "            nn.ReLU(),\n",
    "            nn.Linear(feed_forward_size, embed_size)\n",
    "        )\n",
    "        self.dropout = nn.Dropout(dropout)\n",
    "\n",
    "    def forward(self, value, key, query, mask):\n",
    "        attention_out = self.attention(value, key, query, mask)\n",
    "        x = self.norm1(attention_out + query)\n",
    "        forward_out = self.feed_forward(x)\n",
    "        out = self.norm2(forward_out + x)\n",
    "        return self.dropout(out)\n"
   ]
  },
  {
   "cell_type": "code",
   "execution_count": 22,
   "metadata": {},
   "outputs": [],
   "source": [
    "class TransformerModel(nn.Module):\n",
    "    def __init__(self, vocab_size, embed_size, num_heads, num_layers, feed_forward_size, num_classes, dropout=0.1):\n",
    "        super(TransformerModel, self).__init__()\n",
    "        self.embed_size = embed_size\n",
    "        self.embedding = nn.Embedding(vocab_size, embed_size)\n",
    "        self.positional_encoding = PositionalEncoding(embed_size)\n",
    "        self.transformer_blocks = nn.ModuleList([\n",
    "            TransformerBlock(embed_size, num_heads, feed_forward_size, dropout)\n",
    "            for _ in range(num_layers)\n",
    "        ])\n",
    "        self.fc_out = nn.Linear(embed_size, num_classes)\n",
    "        self.softmax = nn.Softmax(dim=-1)\n",
    "    \n",
    "    def forward(self, x, mask=None):\n",
    "        x = self.embedding(x)\n",
    "        x = self.positional_encoding(x)\n",
    "        \n",
    "        for block in self.transformer_blocks:\n",
    "            x = block(x, x, x, mask)\n",
    "        \n",
    "        out = self.fc_out(x.mean(dim=1))  # Pooling over sequence length\n",
    "        return self.softmax(out)\n"
   ]
  },
  {
   "cell_type": "code",
   "execution_count": 24,
   "metadata": {},
   "outputs": [
    {
     "name": "stderr",
     "output_type": "stream",
     "text": [
      "100%|██████████| 93/93 [01:22<00:00,  1.13it/s]\n",
      "100%|██████████| 24/24 [00:06<00:00,  3.46it/s]\n"
     ]
    },
    {
     "name": "stdout",
     "output_type": "stream",
     "text": [
      "Epoch 1/10 - Train Loss: 0.6168, Val Loss: 0.5277\n"
     ]
    },
    {
     "name": "stderr",
     "output_type": "stream",
     "text": [
      "100%|██████████| 93/93 [01:21<00:00,  1.15it/s]\n",
      "100%|██████████| 24/24 [00:09<00:00,  2.47it/s]\n"
     ]
    },
    {
     "name": "stdout",
     "output_type": "stream",
     "text": [
      "Epoch 2/10 - Train Loss: 0.3578, Val Loss: 0.3453\n"
     ]
    },
    {
     "name": "stderr",
     "output_type": "stream",
     "text": [
      "100%|██████████| 93/93 [01:37<00:00,  1.05s/it]\n",
      "100%|██████████| 24/24 [00:06<00:00,  3.91it/s]\n"
     ]
    },
    {
     "name": "stdout",
     "output_type": "stream",
     "text": [
      "Epoch 3/10 - Train Loss: 0.3409, Val Loss: 0.3339\n"
     ]
    },
    {
     "name": "stderr",
     "output_type": "stream",
     "text": [
      "100%|██████████| 93/93 [01:13<00:00,  1.26it/s]\n",
      "100%|██████████| 24/24 [00:06<00:00,  3.85it/s]\n"
     ]
    },
    {
     "name": "stdout",
     "output_type": "stream",
     "text": [
      "Epoch 4/10 - Train Loss: 0.3367, Val Loss: 0.3376\n"
     ]
    },
    {
     "name": "stderr",
     "output_type": "stream",
     "text": [
      "100%|██████████| 93/93 [01:17<00:00,  1.20it/s]\n",
      "100%|██████████| 24/24 [00:07<00:00,  3.38it/s]\n"
     ]
    },
    {
     "name": "stdout",
     "output_type": "stream",
     "text": [
      "Epoch 5/10 - Train Loss: 0.3310, Val Loss: 0.3306\n"
     ]
    },
    {
     "name": "stderr",
     "output_type": "stream",
     "text": [
      "100%|██████████| 93/93 [01:24<00:00,  1.10it/s]\n",
      "100%|██████████| 24/24 [00:08<00:00,  2.85it/s]\n"
     ]
    },
    {
     "name": "stdout",
     "output_type": "stream",
     "text": [
      "Epoch 6/10 - Train Loss: 0.3275, Val Loss: 0.3394\n"
     ]
    },
    {
     "name": "stderr",
     "output_type": "stream",
     "text": [
      "100%|██████████| 93/93 [01:32<00:00,  1.00it/s]\n",
      "100%|██████████| 24/24 [00:06<00:00,  3.94it/s]\n"
     ]
    },
    {
     "name": "stdout",
     "output_type": "stream",
     "text": [
      "Epoch 7/10 - Train Loss: 0.3251, Val Loss: 0.3279\n"
     ]
    },
    {
     "name": "stderr",
     "output_type": "stream",
     "text": [
      "100%|██████████| 93/93 [01:13<00:00,  1.27it/s]\n",
      "100%|██████████| 24/24 [00:06<00:00,  3.86it/s]\n"
     ]
    },
    {
     "name": "stdout",
     "output_type": "stream",
     "text": [
      "Epoch 8/10 - Train Loss: 0.3212, Val Loss: 0.3238\n"
     ]
    },
    {
     "name": "stderr",
     "output_type": "stream",
     "text": [
      "100%|██████████| 93/93 [01:14<00:00,  1.24it/s]\n",
      "100%|██████████| 24/24 [00:06<00:00,  3.87it/s]\n"
     ]
    },
    {
     "name": "stdout",
     "output_type": "stream",
     "text": [
      "Epoch 9/10 - Train Loss: 0.3191, Val Loss: 0.3301\n"
     ]
    },
    {
     "name": "stderr",
     "output_type": "stream",
     "text": [
      "100%|██████████| 93/93 [01:12<00:00,  1.28it/s]\n",
      "100%|██████████| 24/24 [00:06<00:00,  3.87it/s]"
     ]
    },
    {
     "name": "stdout",
     "output_type": "stream",
     "text": [
      "Epoch 10/10 - Train Loss: 0.3190, Val Loss: 0.3247\n"
     ]
    },
    {
     "name": "stderr",
     "output_type": "stream",
     "text": [
      "\n"
     ]
    }
   ],
   "source": [
    "\n",
    "# Hyperparameters\n",
    "VOCAB_SIZE = len(word2idx)\n",
    "EMBED_SIZE = 128\n",
    "NUM_HEADS = 8\n",
    "NUM_LAYERS = 3\n",
    "FEED_FORWARD_SIZE = 512\n",
    "NUM_CLASSES = 2\n",
    "DROPOUT = 0.5\n",
    "LEARNING_RATE = 0.001\n",
    "BATCH_SIZE = 32\n",
    "EPOCHS = 10\n",
    "\n",
    "# Create dataset and dataloader\n",
    "train_dataset = FakeNewsDataset(train_encodings, train_labels)\n",
    "val_dataset = FakeNewsDataset(val_encodings, val_labels)\n",
    "\n",
    "train_loader = DataLoader(train_dataset, batch_size=BATCH_SIZE, shuffle=True)\n",
    "val_loader = DataLoader(val_dataset, batch_size=BATCH_SIZE, shuffle=False)\n",
    "\n",
    "# Initialize model, loss, and optimizer\n",
    "model = TransformerModel(VOCAB_SIZE, EMBED_SIZE, NUM_HEADS, NUM_LAYERS, FEED_FORWARD_SIZE, NUM_CLASSES, DROPOUT)\n",
    "criterion = nn.CrossEntropyLoss()\n",
    "optimizer = optim.Adam(model.parameters(), lr=LEARNING_RATE)\n",
    "\n",
    "# Training loop\n",
    "for epoch in range(EPOCHS):\n",
    "    model.train()\n",
    "    train_losses = []\n",
    "    for batch in tqdm(train_loader):\n",
    "        input_ids = batch['input_ids']\n",
    "        labels = batch['labels']\n",
    "        \n",
    "        optimizer.zero_grad()\n",
    "        output = model(input_ids)\n",
    "        loss = criterion(output, labels)\n",
    "        loss.backward()\n",
    "        optimizer.step()\n",
    "        \n",
    "        train_losses.append(loss.item())\n",
    "    \n",
    "    train_loss = np.mean(train_losses)\n",
    "    \n",
    "    model.eval()\n",
    "    val_losses = []\n",
    "    with torch.no_grad():\n",
    "        for batch in tqdm(val_loader):\n",
    "            input_ids = batch['input_ids']\n",
    "            labels = batch['labels']\n",
    "            \n",
    "            output = model(input_ids)\n",
    "            loss = criterion(output, labels)\n",
    "            \n",
    "            val_losses.append(loss.item())\n",
    "    \n",
    "    val_loss = np.mean(val_losses)\n",
    "    \n",
    "    print(f\"Epoch {epoch+1}/{EPOCHS} - Train Loss: {train_loss:.4f}, Val Loss: {val_loss:.4f}\")\n",
    "\n",
    "\n"
   ]
  },
  {
   "cell_type": "code",
   "execution_count": null,
   "metadata": {
    "vscode": {
     "languageId": "lua"
    }
   },
   "outputs": [
    {
     "name": "stdout",
     "output_type": "stream",
     "text": [
      "Text: In context of the report on missing girls, the tweet claimed that the state topped in crime against women. FactChecker looked at data from the NCRB’s Crime in India 2021 report and found that Rajasthan, which has an Indian National Congress (INC) government, ranked second on absolute number of crimes against women, and sixth on crime rate.\n",
      "Prediction: Real\n",
      "\n",
      "Text: fake hai bhai 90uokjdflkd09lkfj fake hai bhai fake hai bhai\n",
      "Prediction: Real\n",
      "\n"
     ]
    },
    {
     "name": "stderr",
     "output_type": "stream",
     "text": [
      "C:\\Users\\sksac\\AppData\\Local\\Temp\\ipykernel_7520\\4157026811.py:5: FutureWarning: You are using `torch.load` with `weights_only=False` (the current default value), which uses the default pickle module implicitly. It is possible to construct malicious pickle data which will execute arbitrary code during unpickling (See https://github.com/pytorch/pytorch/blob/main/SECURITY.md#untrusted-models for more details). In a future release, the default value for `weights_only` will be flipped to `True`. This limits the functions that could be executed during unpickling. Arbitrary objects will no longer be allowed to be loaded via this mode unless they are explicitly allowlisted by the user via `torch.serialization.add_safe_globals`. We recommend you start setting `weights_only=True` for any use case where you don't have full control of the loaded file. Please open an issue on GitHub for any issues related to this experimental feature.\n",
      "  model.load_state_dict(torch.load('transformer_model.pth'))\n"
     ]
    }
   ],
   "source": [
    "\n",
    "#save and test\n",
    "torch.save(model.state_dict(), 'transformer_model.pth')\n",
    "\n",
    "model = TransformerModel(VOCAB_SIZE, EMBED_SIZE, NUM_HEADS, NUM_LAYERS, FEED_FORWARD_SIZE, NUM_CLASSES, DROPOUT)\n",
    "model.load_state_dict(torch.load('transformer_model.pth'))\n",
    "model.eval()\n",
    "\n",
    "\n"
   ]
  },
  {
   "cell_type": "code",
   "execution_count": 45,
   "metadata": {},
   "outputs": [
    {
     "name": "stdout",
     "output_type": "stream",
     "text": [
      "Text: - Prediction: Real\n",
      "Text: - Prediction: Real\n",
      "Text: - Prediction: Real\n",
      "Text: - Prediction: Real\n"
     ]
    },
    {
     "name": "stderr",
     "output_type": "stream",
     "text": [
      "C:\\Users\\sksac\\AppData\\Local\\Temp\\ipykernel_7520\\3871392855.py:5: FutureWarning: You are using `torch.load` with `weights_only=False` (the current default value), which uses the default pickle module implicitly. It is possible to construct malicious pickle data which will execute arbitrary code during unpickling (See https://github.com/pytorch/pytorch/blob/main/SECURITY.md#untrusted-models for more details). In a future release, the default value for `weights_only` will be flipped to `True`. This limits the functions that could be executed during unpickling. Arbitrary objects will no longer be allowed to be loaded via this mode unless they are explicitly allowlisted by the user via `torch.serialization.add_safe_globals`. We recommend you start setting `weights_only=True` for any use case where you don't have full control of the loaded file. Please open an issue on GitHub for any issues related to this experimental feature.\n",
      "  model.load_state_dict(torch.load('transformer_model.pth'))\n"
     ]
    }
   ],
   "source": [
    "#save and test\n",
    "torch.save(model.state_dict(), 'transformer_model.pth')\n",
    "\n",
    "model = TransformerModel(VOCAB_SIZE, EMBED_SIZE, NUM_HEADS, NUM_LAYERS, FEED_FORWARD_SIZE, NUM_CLASSES, DROPOUT)\n",
    "model.load_state_dict(torch.load('transformer_model.pth'))\n",
    "model.eval()\n",
    "\n",
    "test_texts = [\n",
    "    \"The earth is flat\",\n",
    "    \"The earth is round\",\n",
    "    \"The moon is made of cheese\",\n",
    "    \"NEW DELHI: Companies having not less than 300 workers will soon be allowed to hire and fire workers without seeking prior government permission, with the labour ministry proposing changes to rules in a bill introduced in Lok Sabha on Saturday.The proposal, which was the bone of contention between the ministry and trade unions, is part of the Industrial Relation Code Bill 2020.Currently, only those industrial establishments with less than 100 employees are permitted to hire and fire their staff without permission of the government.The bill was introduced by labour minister Santosh Gangwar amid opposition from Congress and few other parties.The Industrial Relation Code Bill 2019 was introduced in Lok Sabha last year and subsequently sent to the Parliamentary Standing Committee on Labour. This bill was withdrawn on Saturday.An earlier draft bill circulated by the labour ministry for discussion had also proposed the criteria that companies having not less than 300 employees can hire and fire without the government's permission. However, this provision faced stiff opposition from trade unions and was not included in the 2019 bill.Earlier this year, the Parliamentary committee also made a case of allowing companies having less than 300 workers to go for retrenchment of staff or closure without government permission.States like Rajasthan have already increased the threshold to 300 workers, which according to the labour ministry has resulted in an increase in employment and a decrease in retrenchment, the committee had pointed out in its report.With regard to the threshold, the government has proposed Section 77(1) in the The Industrial Relation Code 2020.According to the Section, the provisions of this Chapter (lay-off, retrenchment and closure in certain establishment) shall apply to an industrial establishment (not being an establishment of a seasonal character or in which work is performed only intermittently) in which not less than three hundred workers, or such higher number of workers as may be notified by the appropriate Government, were employed on an average per working day in the preceding twelve months.Apart from this code, two others- Occupational Safety, Health And Working Conditions Code, 2020 and the Code On Social Security, 2020- were also introduced by the minister in Lok Sabha.Among others, Congress leaders- Manish Tewari and Shashi Tharoor- opposed the introduction of the three bills.Tewari noted these three bills are fundamentally changed versions of their earlier forms and urged the minister to withdraw them and hold wider consultations before introducing them.These bills are also a blow to the rights of workers, he added.With respect to the industrial relations code, Tharoor said it severely restricts the right of workers to strike and also allows state or central governments to amend the threshold for applicability relating to layoffs and retrenchment.In Lok Sabha, Gangwar said that over 29 labour laws have been merged into four codes and that one of them has already been passed.The Code on Wages Bill, 2019 was passed by Parliament last year.Gangwar noted that the government engaged in wider consultations over these bills with various stakeholders and that more than 6,000 comments were received online on the bills.These bills were later sent to a standing committee and 174 of its 233 recommendations have been accepted, the minister said.\"\n",
    "]\n",
    "\n",
    "test_encodings = encode_texts(test_texts)\n",
    "test_encodings = pad_sequences(test_encodings, max_length=MAX_LENGTH)\n",
    "\n",
    "test_dataset = FakeNewsDataset(test_encodings, pd.Series([0] * len(test_texts)))\n",
    "\n",
    "test_loader = DataLoader(test_dataset, batch_size=1, shuffle=False)\n",
    "\n",
    "predictions = []\n",
    "\n",
    "with torch.no_grad():\n",
    "    for batch in test_loader:\n",
    "        input_ids = batch['input_ids']\n",
    "        output = model(input_ids)\n",
    "        _, pred = torch.max(output, 1)\n",
    "        predictions.extend(pred.tolist())\n",
    "\n",
    "for text, pred in zip(test_texts, predictions):\n",
    "    print(f\"Text: - Prediction: {'Fake' if pred == 0 else 'Real'}\")\n",
    "\n",
    "\n",
    "\n"
   ]
  },
  {
   "cell_type": "code",
   "execution_count": null,
   "metadata": {},
   "outputs": [
    {
     "ename": "IndexError",
     "evalue": "list index out of range",
     "output_type": "error",
     "traceback": [
      "\u001b[1;31m---------------------------------------------------------------------------\u001b[0m",
      "\u001b[1;31mIndexError\u001b[0m                                Traceback (most recent call last)",
      "Cell \u001b[1;32mIn[38], line 13\u001b[0m\n\u001b[0;32m     11\u001b[0m predictions \u001b[38;5;241m=\u001b[39m []\n\u001b[0;32m     12\u001b[0m \u001b[38;5;28;01mwith\u001b[39;00m torch\u001b[38;5;241m.\u001b[39mno_grad():\n\u001b[1;32m---> 13\u001b[0m \u001b[43m    \u001b[49m\u001b[38;5;28;43;01mfor\u001b[39;49;00m\u001b[43m \u001b[49m\u001b[43mbatch\u001b[49m\u001b[43m \u001b[49m\u001b[38;5;129;43;01min\u001b[39;49;00m\u001b[43m \u001b[49m\u001b[43mtest_loader\u001b[49m\u001b[43m:\u001b[49m\n\u001b[0;32m     14\u001b[0m \u001b[43m        \u001b[49m\u001b[43minput_ids\u001b[49m\u001b[43m \u001b[49m\u001b[38;5;241;43m=\u001b[39;49m\u001b[43m \u001b[49m\u001b[43mbatch\u001b[49m\u001b[43m[\u001b[49m\u001b[38;5;124;43m'\u001b[39;49m\u001b[38;5;124;43minput_ids\u001b[39;49m\u001b[38;5;124;43m'\u001b[39;49m\u001b[43m]\u001b[49m\n\u001b[0;32m     15\u001b[0m \u001b[43m        \u001b[49m\u001b[43moutput\u001b[49m\u001b[43m \u001b[49m\u001b[38;5;241;43m=\u001b[39;49m\u001b[43m \u001b[49m\u001b[43mmodel\u001b[49m\u001b[43m(\u001b[49m\u001b[43minput_ids\u001b[49m\u001b[43m)\u001b[49m\n",
      "File \u001b[1;32m~\\AppData\\Roaming\\Python\\Python312\\site-packages\\torch\\utils\\data\\dataloader.py:701\u001b[0m, in \u001b[0;36m_BaseDataLoaderIter.__next__\u001b[1;34m(self)\u001b[0m\n\u001b[0;32m    698\u001b[0m \u001b[38;5;28;01mif\u001b[39;00m \u001b[38;5;28mself\u001b[39m\u001b[38;5;241m.\u001b[39m_sampler_iter \u001b[38;5;129;01mis\u001b[39;00m \u001b[38;5;28;01mNone\u001b[39;00m:\n\u001b[0;32m    699\u001b[0m     \u001b[38;5;66;03m# TODO(https://github.com/pytorch/pytorch/issues/76750)\u001b[39;00m\n\u001b[0;32m    700\u001b[0m     \u001b[38;5;28mself\u001b[39m\u001b[38;5;241m.\u001b[39m_reset()  \u001b[38;5;66;03m# type: ignore[call-arg]\u001b[39;00m\n\u001b[1;32m--> 701\u001b[0m data \u001b[38;5;241m=\u001b[39m \u001b[38;5;28;43mself\u001b[39;49m\u001b[38;5;241;43m.\u001b[39;49m\u001b[43m_next_data\u001b[49m\u001b[43m(\u001b[49m\u001b[43m)\u001b[49m\n\u001b[0;32m    702\u001b[0m \u001b[38;5;28mself\u001b[39m\u001b[38;5;241m.\u001b[39m_num_yielded \u001b[38;5;241m+\u001b[39m\u001b[38;5;241m=\u001b[39m \u001b[38;5;241m1\u001b[39m\n\u001b[0;32m    703\u001b[0m \u001b[38;5;28;01mif\u001b[39;00m (\n\u001b[0;32m    704\u001b[0m     \u001b[38;5;28mself\u001b[39m\u001b[38;5;241m.\u001b[39m_dataset_kind \u001b[38;5;241m==\u001b[39m _DatasetKind\u001b[38;5;241m.\u001b[39mIterable\n\u001b[0;32m    705\u001b[0m     \u001b[38;5;129;01mand\u001b[39;00m \u001b[38;5;28mself\u001b[39m\u001b[38;5;241m.\u001b[39m_IterableDataset_len_called \u001b[38;5;129;01mis\u001b[39;00m \u001b[38;5;129;01mnot\u001b[39;00m \u001b[38;5;28;01mNone\u001b[39;00m\n\u001b[0;32m    706\u001b[0m     \u001b[38;5;129;01mand\u001b[39;00m \u001b[38;5;28mself\u001b[39m\u001b[38;5;241m.\u001b[39m_num_yielded \u001b[38;5;241m>\u001b[39m \u001b[38;5;28mself\u001b[39m\u001b[38;5;241m.\u001b[39m_IterableDataset_len_called\n\u001b[0;32m    707\u001b[0m ):\n",
      "File \u001b[1;32m~\\AppData\\Roaming\\Python\\Python312\\site-packages\\torch\\utils\\data\\dataloader.py:757\u001b[0m, in \u001b[0;36m_SingleProcessDataLoaderIter._next_data\u001b[1;34m(self)\u001b[0m\n\u001b[0;32m    755\u001b[0m \u001b[38;5;28;01mdef\u001b[39;00m \u001b[38;5;21m_next_data\u001b[39m(\u001b[38;5;28mself\u001b[39m):\n\u001b[0;32m    756\u001b[0m     index \u001b[38;5;241m=\u001b[39m \u001b[38;5;28mself\u001b[39m\u001b[38;5;241m.\u001b[39m_next_index()  \u001b[38;5;66;03m# may raise StopIteration\u001b[39;00m\n\u001b[1;32m--> 757\u001b[0m     data \u001b[38;5;241m=\u001b[39m \u001b[38;5;28;43mself\u001b[39;49m\u001b[38;5;241;43m.\u001b[39;49m\u001b[43m_dataset_fetcher\u001b[49m\u001b[38;5;241;43m.\u001b[39;49m\u001b[43mfetch\u001b[49m\u001b[43m(\u001b[49m\u001b[43mindex\u001b[49m\u001b[43m)\u001b[49m  \u001b[38;5;66;03m# may raise StopIteration\u001b[39;00m\n\u001b[0;32m    758\u001b[0m     \u001b[38;5;28;01mif\u001b[39;00m \u001b[38;5;28mself\u001b[39m\u001b[38;5;241m.\u001b[39m_pin_memory:\n\u001b[0;32m    759\u001b[0m         data \u001b[38;5;241m=\u001b[39m _utils\u001b[38;5;241m.\u001b[39mpin_memory\u001b[38;5;241m.\u001b[39mpin_memory(data, \u001b[38;5;28mself\u001b[39m\u001b[38;5;241m.\u001b[39m_pin_memory_device)\n",
      "File \u001b[1;32m~\\AppData\\Roaming\\Python\\Python312\\site-packages\\torch\\utils\\data\\_utils\\fetch.py:52\u001b[0m, in \u001b[0;36m_MapDatasetFetcher.fetch\u001b[1;34m(self, possibly_batched_index)\u001b[0m\n\u001b[0;32m     50\u001b[0m         data \u001b[38;5;241m=\u001b[39m \u001b[38;5;28mself\u001b[39m\u001b[38;5;241m.\u001b[39mdataset\u001b[38;5;241m.\u001b[39m__getitems__(possibly_batched_index)\n\u001b[0;32m     51\u001b[0m     \u001b[38;5;28;01melse\u001b[39;00m:\n\u001b[1;32m---> 52\u001b[0m         data \u001b[38;5;241m=\u001b[39m [\u001b[38;5;28;43mself\u001b[39;49m\u001b[38;5;241;43m.\u001b[39;49m\u001b[43mdataset\u001b[49m\u001b[43m[\u001b[49m\u001b[43midx\u001b[49m\u001b[43m]\u001b[49m \u001b[38;5;28;01mfor\u001b[39;00m idx \u001b[38;5;129;01min\u001b[39;00m possibly_batched_index]\n\u001b[0;32m     53\u001b[0m \u001b[38;5;28;01melse\u001b[39;00m:\n\u001b[0;32m     54\u001b[0m     data \u001b[38;5;241m=\u001b[39m \u001b[38;5;28mself\u001b[39m\u001b[38;5;241m.\u001b[39mdataset[possibly_batched_index]\n",
      "Cell \u001b[1;32mIn[18], line 8\u001b[0m, in \u001b[0;36mFakeNewsDataset.__getitem__\u001b[1;34m(self, idx)\u001b[0m\n\u001b[0;32m      6\u001b[0m \u001b[38;5;28;01mdef\u001b[39;00m \u001b[38;5;21m__getitem__\u001b[39m(\u001b[38;5;28mself\u001b[39m, idx):\n\u001b[0;32m      7\u001b[0m     \u001b[38;5;28;01mreturn\u001b[39;00m {\n\u001b[1;32m----> 8\u001b[0m         \u001b[38;5;124m'\u001b[39m\u001b[38;5;124minput_ids\u001b[39m\u001b[38;5;124m'\u001b[39m: torch\u001b[38;5;241m.\u001b[39mtensor(\u001b[38;5;28;43mself\u001b[39;49m\u001b[38;5;241;43m.\u001b[39;49m\u001b[43mencodings\u001b[49m\u001b[43m[\u001b[49m\u001b[43midx\u001b[49m\u001b[43m]\u001b[49m, dtype\u001b[38;5;241m=\u001b[39mtorch\u001b[38;5;241m.\u001b[39mlong),\n\u001b[0;32m      9\u001b[0m         \u001b[38;5;124m'\u001b[39m\u001b[38;5;124mlabels\u001b[39m\u001b[38;5;124m'\u001b[39m: torch\u001b[38;5;241m.\u001b[39mtensor(\u001b[38;5;28mself\u001b[39m\u001b[38;5;241m.\u001b[39mlabels\u001b[38;5;241m.\u001b[39miloc[idx], dtype\u001b[38;5;241m=\u001b[39mtorch\u001b[38;5;241m.\u001b[39mlong)\n\u001b[0;32m     10\u001b[0m     }\n",
      "\u001b[1;31mIndexError\u001b[0m: list index out of range"
     ]
    }
   ],
   "source": []
  },
  {
   "cell_type": "code",
   "execution_count": 26,
   "metadata": {},
   "outputs": [
    {
     "name": "stdout",
     "output_type": "stream",
     "text": [
      "Accuracy: 0.9879\n"
     ]
    }
   ],
   "source": [
    "# cheak the accuracy on test data and also provide some provide insightful results\n",
    "test_dataset = FakeNewsDataset(val_encodings, val_labels)\n",
    "test_loader = DataLoader(test_dataset, batch_size=1, shuffle=False)\n",
    "\n",
    "predictions = []\n",
    "with torch.no_grad():\n",
    "    for batch in test_loader:\n",
    "        input_ids = batch['input_ids']\n",
    "        output = model(input_ids)\n",
    "        predictions.append(output.argmax(dim=1).item())\n",
    "\n",
    "correct = 0\n",
    "total = 0\n",
    "for prediction, label in zip(predictions, val_labels):\n",
    "    if prediction == label:\n",
    "        correct += 1\n",
    "    total += 1\n",
    "\n",
    "accuracy = correct / total\n",
    "\n",
    "print(f\"Accuracy: {accuracy:.4f}\")\n",
    "\n",
    "\n",
    "\n"
   ]
  },
  {
   "cell_type": "code",
   "execution_count": 28,
   "metadata": {},
   "outputs": [
    {
     "name": "stdout",
     "output_type": "stream",
     "text": [
      "              precision    recall  f1-score   support\n",
      "\n",
      "           0       0.99      0.99      0.99       377\n",
      "           1       0.99      0.99      0.99       367\n",
      "\n",
      "    accuracy                           0.99       744\n",
      "   macro avg       0.99      0.99      0.99       744\n",
      "weighted avg       0.99      0.99      0.99       744\n",
      "\n",
      "[[372   5]\n",
      " [  4 363]]\n"
     ]
    },
    {
     "data": {
      "image/png": "[encoded data removed]",
      "text/plain": [
       "<Figure size 640x480 with 2 Axes>"
      ]
     },
     "metadata": {},
     "output_type": "display_data"
    }
   ],
   "source": [
    "#provide precision, recall, f1-score and confusion matrix\n",
    "from sklearn.metrics import classification_report, confusion_matrix\n",
    "\n",
    "print(classification_report(val_labels, predictions))\n",
    "print(confusion_matrix(val_labels, predictions))\n",
    "\n",
    "\n",
    "#provide some insights\n",
    "\n",
    "#image of confusion matrix\n",
    "import matplotlib.pyplot as plt\n",
    "import seaborn as sns\n",
    "\n",
    "cm = confusion_matrix(val_labels, predictions)\n",
    "sns.heatmap(cm, annot=True, fmt='g', cmap='Blues')\n",
    "plt.xlabel('Predicted')\n",
    "plt.ylabel('Actual')\n",
    "\n",
    "plt.show()\n",
    "\n"
   ]
  },
  {
   "cell_type": "code",
   "execution_count": null,
   "metadata": {},
   "outputs": [],
   "source": [
    "# Provide some insightful results\n",
    "\n",
    "# Get attention weights\n",
    "\n",
    "def get_attention_weights(model, text):\n",
    "    model.eval()\n",
    "    encodings = encode_texts([text])\n",
    "    encodings = pad_sequences(encodings, max_length=MAX_LENGTH)\n",
    "    input_ids = torch.tensor(encodings, dtype=torch.long)\n",
    "    \n",
    "    with torch.no_grad():\n",
    "        output = model(input_ids)\n",
    "    \n",
    "    attention_weights = []\n",
    "    for block in model.transformer_blocks:\n",
    "        for i, layer in enumerate(block.attention.children()):\n",
    "            if i % 4 == 0:\n",
    "                attention_weights.append(layer(output, output, output, mask=None))\n",
    "    \n",
    "    return attention_weights\n",
    "\n",
    "text = \"This is a real news article\"\n",
    "attention_weights = get_attention_weights(model, text)\n",
    "\n",
    "# Plot attention weights\n",
    "\n",
    "import matplotlib.pyplot as plt\n",
    "\n",
    "def plot_attention_weights(attention_weights):\n",
    "    fig, axs = plt.subplots(1, len(attention_weights), figsize=(20, 5))\n",
    "    for i, attention in enumerate(attention_weights):\n",
    "        axs[i].imshow(attention.squeeze().numpy())\n",
    "        axs[i].set_title(f\"Layer {i+1}\")\n",
    "    plt.show()\n",
    "\n",
    "plot_attention_weights(attention_weights)\n",
    "\n",
    "# Get attention weights for fake news\n",
    "text = \"This is a fake news article\"\n",
    "\n",
    "attention_weights = get_attention_weights(model, text)\n",
    "plot_attention_weights(attention_weights)\n",
    "\n",
    "# Get attention weights for a longer text\n",
    "text = \"This is a real news article. \" * 10\n",
    "\n",
    "attention_weights = get_attention_weights(model, text)\n",
    "\n",
    "plot_attention_weights(attention_weights)"
   ]
  }
 ],
 "metadata": {
  "kernelspec": {
   "display_name": "Python 3",
   "language": "python",
   "name": "python3"
  },
  "language_info": {
   "codemirror_mode": {
    "name": "ipython",
    "version": 3
   },
   "file_extension": ".py",
   "mimetype": "text/x-python",
   "name": "python",
   "nbconvert_exporter": "python",
   "pygments_lexer": "ipython3",
   "version": "3.12.6"
  }
 },
 "nbformat": 4,
 "nbformat_minor": 2
}
